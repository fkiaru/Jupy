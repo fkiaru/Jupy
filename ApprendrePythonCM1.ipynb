{
 "cells": [
  {
   "cell_type": "markdown",
   "metadata": {},
   "source": [
    "# Bienvenue !\n",
    "\n",
    "En suivant ce guide, tu vas apprendre les bases de la programmation en Python.\n"
   ]
  },
  {
   "cell_type": "markdown",
   "metadata": {},
   "source": [
    "# Activité N°1 : qu'est-ce que la programmation ?"
   ]
  },
  {
   "cell_type": "markdown",
   "metadata": {},
   "source": [
    "Un ordinateur n'est pas bien malin : il ne sait réaliser que des tâches très simples appelées `instructions` ou `opérations élémentaires`.\n",
    "\n",
    "En combinant ces tâches simles, on peut le rendre capable de réaliser tout un tas d'`opérations complexes`.\n",
    "\n",
    "Ces opérations complexes permettent alors à l'ordinateur de ``résoudre des problèmes`` et cela généralement beaucoup plus rapidement que ne le ferait un humain, \"à la main\".\n",
    "\n",
    "On appelle `algorithme` la suite de ces opérations simples adaptées à la résolution d'un problème donnée.\n",
    "\n",
    "Voici quelques exemples d'`opérations complexes` que peut apprendre à faire un ordinateur :\n",
    "\n",
    "- rechercher un fichier dans le disque dur de l'ordinateur à partir du nom de ce fichier,\n",
    "- trouver le chemin le plus court pour aller d'une ville à une autre ville,\n",
    "- tracer des cercles en couleurs à l'écran,\n",
    "- compter le nombre de lettres d'un mot donné,\n",
    "- rechercher les visages présents sur une image donnée,\n",
    "- déterminer si une image donnée est celle d'un chat, ..."
   ]
  },
  {
   "cell_type": "markdown",
   "metadata": {},
   "source": [
    "**A toi de jouer** : propose trois autres opérations complexes qu'un ordinateur est susceptible de réaliser et écris-les dans la case ci-dessous, appelée `cellule`."
   ]
  },
  {
   "cell_type": "markdown",
   "metadata": {},
   "source": [
    "Les opérations complexes qu'un ordinateur est capable de réaliser sont:\n",
    "\n",
    "1/Trouver les résultats d'une recherche sur Google.\n",
    "\n",
    "2/Il peut prendre une photo d'une page google, e-mail, d'un jeu vidéo, ou compté des nombres rapidement, etc ...\n",
    "\n",
    "3/Et il peut partager une écran (sur zoom ou sur skype)."
   ]
  },
  {
   "cell_type": "markdown",
   "metadata": {},
   "source": [
    "Une fois que tu as complété la `cellule` précédente:\n",
    "\n",
    "- positionne s'y le curseur à l'aide de la souris,\n",
    "- clique dedans avec la souris, \n",
    "- enfin appuie sur la `touche Majuscule` (flèche vers le haut) et **en même temps** la `touche Entrée`.\n",
    "\n",
    "Tu dois constater un changement de mise en forme du texte."
   ]
  },
  {
   "cell_type": "markdown",
   "metadata": {},
   "source": [
    "D'après-toi qu'est que **la programmation?** (écris ta réponse dans la case ci-dessous puis valide avec `Majuscule` + `Entrée`)."
   ]
  },
  {
   "cell_type": "markdown",
   "metadata": {},
   "source": [
    "Quand tu lui apprends à faire une opération complexe."
   ]
  },
  {
   "cell_type": "markdown",
   "metadata": {},
   "source": [
    "# Activité N°2 : Qu'est ce qu'un langage de programmation ?"
   ]
  },
  {
   "cell_type": "markdown",
   "metadata": {},
   "source": [
    "L'ordinateur ne peut comprendre que des opérations simples.\n",
    "\n",
    "Il ne connait que très peu de mots. Son `vocabulaire` est très limité. Un peu comme un bébé qui ne connaitrait que quelques mots: \"maman\", \"papa\", \"boire\", \"manger\", \"jouer\", \"doudou\", ...\n",
    "\n",
    "Pour communiquer avec l'ordinateur, nous devons utiliser les mots qu'il connait.\n",
    "\n",
    "Il faut donc apprendre son `langage` afin de pouvoir lui écrire ce qu'il doit faire.\n",
    "\n",
    "**Voyons par exemple, comment faire écrire un texte à l'écran.**\n",
    "\n",
    "L'instruction pour faire écrire un texte à l'écran se nomme `print()`.\n",
    "\n",
    "Observons l'exemple ci-dessous:"
   ]
  },
  {
   "cell_type": "code",
   "execution_count": 11,
   "metadata": {},
   "outputs": [
    {
     "name": "stdout",
     "output_type": "stream",
     "text": [
      "Bonjour !\n"
     ]
    }
   ],
   "source": [
    "print(\"Bonjour !\")"
   ]
  },
  {
   "cell_type": "markdown",
   "metadata": {},
   "source": [
    "Dans la cellule précédente, nous avons écrit l'*instruction* `print()` afin de dire à l'ordinateur qu'on attend de lui qu'il écrive à l'écran.\n",
    "\n",
    "`print()` est une *opération élémentaire* que l'ordinateur sait faire tout seul.\n",
    "\n",
    "**Entre les parenthèses**, nous avons précisé ce que l'ordinateur devait utiliser pour réaliser cette opération : le texte à afficher est placé entre deux caractères *guillements* `\"` et `\"` qui **délimitent** ce texte.\n",
    "\n",
    "**A toi de jouer** : écris dans la cellule ci-desous l'instruction permettant à l'ordinateur d'afficher à l'écran la phrase suivante, en la complétant par ton prénom :\n",
    "\n",
    "*Bonjour, je m'appelle _ _ _ _ _ _.*\n",
    "\n",
    "Valide ensuite la cellule en appuyant `Majuscule` + `Entrée`."
   ]
  },
  {
   "cell_type": "code",
   "execution_count": 12,
   "metadata": {},
   "outputs": [
    {
     "name": "stdout",
     "output_type": "stream",
     "text": [
      "Je m'appelle Hugo! et j'aime les gâteaux et c'est vrai.\n"
     ]
    }
   ],
   "source": [
    "print (\"Je m'appelle Hugo! et j'aime les gâteaux et c'est vrai.\")"
   ]
  },
  {
   "cell_type": "markdown",
   "metadata": {},
   "source": [
    "D'après-toi, **qu'est ce qu'un langage de programmation?** (écris ta réponse dans la cellule ci-dessous)"
   ]
  },
  {
   "cell_type": "markdown",
   "metadata": {},
   "source": [
    "C'est le vocabulaire que l'ordinateur connait (qu'il est capable de comprendre)."
   ]
  },
  {
   "cell_type": "markdown",
   "metadata": {},
   "source": [
    "## Activité N°3 Un premier programme\n",
    "\n",
    "Lis attentivement la suite d'instructions ci-dessous."
   ]
  },
  {
   "cell_type": "code",
   "execution_count": 14,
   "metadata": {},
   "outputs": [
    {
     "name": "stdout",
     "output_type": "stream",
     "text": [
      "Comment t'appelles-tu? hugo\n",
      "Bienvenue,  hugo\n"
     ]
    }
   ],
   "source": [
    "tonNom = input(\"Comment t'appelles-tu? \")\n",
    "print(\"Bienvenue, \",tonNom)"
   ]
  },
  {
   "cell_type": "markdown",
   "metadata": {},
   "source": [
    "**A toi de jouer:** active la `cellule` précédente en cliquant dedans avec la souris.\n",
    "\n",
    "Lance ensuite l'exécution du programme en validant la cellule à l'aide de la combinaison de touches `Majuscule` + `Entrée`.\n",
    "\n",
    "Réponds à la question posée par l'ordinateur puis valide ta saisie en appuyant sur \"entrée\" et observe ce qu'il affichera en retour."
   ]
  },
  {
   "cell_type": "markdown",
   "metadata": {},
   "source": [
    "**Essayons de comprendre comment fonctionne ce programme!**\n",
    "Quelle est, d'après-toi, le rôle de l'*instruction* `input()` ?\n",
    "\n",
    "Ecris ta réponse dans la cellule ci-dessous."
   ]
  },
  {
   "cell_type": "markdown",
   "metadata": {},
   "source": [
    "L'instruction input sert à poser une question."
   ]
  },
  {
   "cell_type": "markdown",
   "metadata": {},
   "source": [
    "L'ordinateur pose une question à l'utilisateur et récupère le *résultat* de cette question.\n",
    "\n",
    "**Pour mémoriser ce résultat**, l'ordinateur doit utiliser un `conteneur` dans lequel il va pouvoir y placer la réponse.\n",
    "\n",
    "Le conteneur qui sert à mémoriser le texte tapé au clavier par l'utilisateur est appelé une `variable`.\n",
    "\n",
    "En relisant le programme, donne le nom de la variable qui est utilisée pour stocker ton nom?"
   ]
  },
  {
   "cell_type": "markdown",
   "metadata": {},
   "source": [
    " Le nom de la variable est tonNom."
   ]
  },
  {
   "cell_type": "markdown",
   "metadata": {},
   "source": [
    "Recopie le nom de cette variable dans la cellule ci-dessous et valide avec les touches MAJ + \"Entrée\". \n",
    "\n",
    "**Attention**, tu dois respecter précisément la syntaxe du nom de variable en prenant garde aux caractères qui sont en *MAJUSCULES* et ceux qui sont en *minuscules*."
   ]
  },
  {
   "cell_type": "code",
   "execution_count": 15,
   "metadata": {},
   "outputs": [
    {
     "data": {
      "text/plain": [
       "'hugo'"
      ]
     },
     "execution_count": 15,
     "metadata": {},
     "output_type": "execute_result"
    }
   ],
   "source": [
    "tonNom"
   ]
  },
  {
   "cell_type": "markdown",
   "metadata": {},
   "source": [
    "Conclusion: l'ordinateur est capable de mémoriser une information, telle qu'un texte, dans un `conteneur` de sa mémoire."
   ]
  },
  {
   "cell_type": "markdown",
   "metadata": {},
   "source": [
    "## Activité N°4 : L'ordinateur sait compter!"
   ]
  },
  {
   "cell_type": "markdown",
   "metadata": {},
   "source": [
    "Exécute à la suite les instructions contenues dans les cellules suivantes tout en **observant attentivement** le résultat affiché par l'ordinateur.\n",
    "\n",
    "Rappel: pour **exécuter le contenu d'une cellule** de programmation, tu actives la cellule en cliquant dedans à la souris puis tu fais `MAJ` + `Enter`"
   ]
  },
  {
   "cell_type": "code",
   "execution_count": 16,
   "metadata": {},
   "outputs": [
    {
     "name": "stdout",
     "output_type": "stream",
     "text": [
      "12\n"
     ]
    }
   ],
   "source": [
    "print(5+7)  # la somme de cinq et de sept"
   ]
  },
  {
   "cell_type": "code",
   "execution_count": 17,
   "metadata": {},
   "outputs": [
    {
     "name": "stdout",
     "output_type": "stream",
     "text": [
      "12\n"
     ]
    }
   ],
   "source": [
    "print(3*4)   # l'ordinateur multiplie le nombre 3 par le nombre 4 et affiche le résultat"
   ]
  },
  {
   "cell_type": "code",
   "execution_count": 18,
   "metadata": {},
   "outputs": [
    {
     "name": "stdout",
     "output_type": "stream",
     "text": [
      "12\n"
     ]
    }
   ],
   "source": [
    "a = 5        # stocke la valeur 5 dans la variable a\n",
    "b = 7        # stocke la valeur 7 dans la variable b\n",
    "print(a+b)   # effectue l'addition de a et de b puis l'affiche"
   ]
  },
  {
   "cell_type": "markdown",
   "metadata": {},
   "source": [
    "Observe les trois instructions suivantes et essaie de comprendre leur signification.\n",
    "\n",
    "Une fois que tu es parvenu à deviner le rôle de ces instructions ajoute, derrière le caractère `#`, un court commentaire explicatif."
   ]
  },
  {
   "cell_type": "code",
   "execution_count": 19,
   "metadata": {},
   "outputs": [
    {
     "name": "stdout",
     "output_type": "stream",
     "text": [
      "12\n"
     ]
    }
   ],
   "source": [
    "x = 3       # stocke la valeur 3 dans la variable x\n",
    "y = 4       # stocke la valeur 4 dans la variable y\n",
    "print(x*y)  # l'ordinateur multiplie x par y et affiche le résultat"
   ]
  },
  {
   "cell_type": "markdown",
   "metadata": {},
   "source": [
    "Valide la cellule précédente et vérifie que l'ordinateur connait bien ses tables de multiplication.\n",
    "\n",
    "**A toi de jouer:**\n",
    "Fais calculer la multiplication suivante à l'ordinateur \n",
    "\n",
    "$$ 137 \\times 73 $$"
   ]
  },
  {
   "cell_type": "code",
   "execution_count": 20,
   "metadata": {},
   "outputs": [
    {
     "name": "stdout",
     "output_type": "stream",
     "text": [
      "10001\n"
     ]
    }
   ],
   "source": [
    "x=137\n",
    "z=73\n",
    "print (x*z)"
   ]
  },
  {
   "cell_type": "markdown",
   "metadata": {},
   "source": [
    "**Enigme N°1 :** lis attentivement les instructions suivantes. Essaie de deviner les résultats qui seront affichés par l'ordinateur."
   ]
  },
  {
   "cell_type": "code",
   "execution_count": 22,
   "metadata": {},
   "outputs": [
    {
     "name": "stdout",
     "output_type": "stream",
     "text": [
      "10\n",
      "14\n",
      "20\n"
     ]
    }
   ],
   "source": [
    "a = 2\n",
    "b = 3\n",
    "c = 4\n",
    "print(a*b+c)\n",
    "print(a+b*c)\n",
    "print((a+b)*c)"
   ]
  },
  {
   "cell_type": "markdown",
   "metadata": {},
   "source": [
    "Exécute le contenu de la cellule précédente. \n",
    "\n",
    "Tes prévisions sont-elles correctes? Explique pourquoi en complétant le texte ci-dessous avec les termes suivants (addition, multiplication, etc...)."
   ]
  },
  {
   "cell_type": "markdown",
   "metadata": {},
   "source": [
    "Lorsque l'on demande à l'ordinateur d'effectuer l'opération 2*3+4, il effectue d'abord l'opération de multiplication pour laquelle il obtient le résultat 6_ _ _. Il effectue ensuite l'opération d'addition_ _ _ _ _ _ _ _  et obtient alors le résultat : 10_ _ _\n",
    "\n",
    "\n",
    "Lorsque l'on demande à l'ordinateur d'effectuer l'opération 2+3*4, il effectue d'abord l'opération de multiplication_ _ _ _ _ _ _ _ _ _ _ pour laquelle il obtient le résultat 12_ _ _. Il effectue ensuite l'opération d'addition_ _ _ _ _ _ _ _  et obtient alors le résultat : 14_ _ _\n"
   ]
  },
  {
   "cell_type": "markdown",
   "metadata": {},
   "source": [
    "# Activité N°5 : l'ordinateur sait décompter !\n",
    "\n",
    "*Sais-tu compter jusqu'à dix?*\n",
    "\n",
    "Comptes-tu sur tes doigts?\n",
    "\n",
    "T'es-tu déjà demandé comment tu faisais pour compter jusqu'à dix sans utiliser tes doigts?\n",
    "\n",
    "L'ordinateur peut compter jusqu'à un dix. Pour cela, il a besoin de **savoir où il en est**.\n",
    "\n",
    "Il est donc nécessaire qu'il **retienne la valeur du nombre dans sa mémoire**.\n",
    "\n",
    "Pour cela, il utilise un `conteneur` dans lequel il va stocker un nombre.\n",
    "\n",
    "Le nombre stocké dans ce `conteneur` correspond à une **valeur qui va évoluer progressivement**, de un en un, à chaque étape du comptage. \n",
    "\n",
    "C'est comme lorsque tu comptes les cartes d'un paquet de cartes : si quelqu'un t'interrompt, tu risques de perdre le fil et ne plus savoir où tu en es.\n",
    "\n",
    "Conclusion: pour compter, nous avons besoin de `définir` une `variable` qui joue le rôle d'**un conteneur** dans lequel l'ordinateur va placer la valeur qu'il est en train de compter.\n",
    "\n",
    "Observe les instructions suivantes:"
   ]
  },
  {
   "cell_type": "code",
   "execution_count": null,
   "metadata": {},
   "outputs": [],
   "source": [
    "for k in range(10):\n",
    "    print(k) # affiche le contenu de la variable 'k'"
   ]
  },
  {
   "cell_type": "markdown",
   "metadata": {},
   "source": [
    "Quel est le nom de la variable utilisée pour le comptage?"
   ]
  },
  {
   "cell_type": "markdown",
   "metadata": {},
   "source": [
    "La variable utilisée pour le comptage est notée : "
   ]
  },
  {
   "cell_type": "markdown",
   "metadata": {},
   "source": [
    "*Exécute* les instruments dans la cellule au dessus et observe ce que l'ordinateur affiche à l'écran.\n",
    "\n",
    "Quel est le premier nombre d'où est parti l'ordinateur pour compter?"
   ]
  },
  {
   "cell_type": "markdown",
   "metadata": {},
   "source": [
    " "
   ]
  },
  {
   "cell_type": "markdown",
   "metadata": {},
   "source": [
    "Quel est le dernier nombre affiché par l'ordinateur?"
   ]
  },
  {
   "cell_type": "markdown",
   "metadata": {},
   "source": [
    " "
   ]
  },
  {
   "cell_type": "markdown",
   "metadata": {},
   "source": [
    "Combien de nombres ont-ils été affichés par l'ordinateur?"
   ]
  },
  {
   "cell_type": "markdown",
   "metadata": {},
   "source": [
    " "
   ]
  },
  {
   "cell_type": "markdown",
   "metadata": {},
   "source": [
    "**Défi N°1 :** Modifie le programme ci-dessous pour `afficher` la liste des nombres 1, 2, 3, etc... jusqu'à 10.\n",
    "\n",
    "Valide le bon fonctionnement de ton programme en exécutant les instructions."
   ]
  },
  {
   "cell_type": "code",
   "execution_count": null,
   "metadata": {},
   "outputs": [],
   "source": [
    "for k in range(10):\n",
    "    print(k) # "
   ]
  },
  {
   "cell_type": "markdown",
   "metadata": {},
   "source": [
    "## Activité N°6 La boucle FOR"
   ]
  },
  {
   "cell_type": "markdown",
   "metadata": {},
   "source": [
    "La structure `for .. in range(...):` est une **structure du langage Python** qui permet d'indiquer que l'ordinateur doit effectuer plusieurs fois une instruction ou un ensemble d'instruction.\n",
    "\n",
    "Attention, il faut bien respecter :\n",
    "\n",
    "- les deux points `:` à la fin de la phrase,\n",
    "- la **tabulation** (touche avec les deux flèches horizontales) qui servent **à décaler** le bloc d'instruction (on dit que l'on fait une **indentation** du texte),\n",
    "- l'utilisation de minuscules pour les mots clés `for`, `in` et `range`.\n",
    "\n",
    "\n",
    "**A toi de jouer :** Lis attentivement la cellule ci-dessous et essaie de deviner ce qui sera affiché par l'ordinateur lorsque tu exécuteras les instructions de cette cellule."
   ]
  },
  {
   "cell_type": "code",
   "execution_count": null,
   "metadata": {},
   "outputs": [],
   "source": [
    "for k in range(4):\n",
    "    print(\"Voici une phrase.\")"
   ]
  },
  {
   "cell_type": "markdown",
   "metadata": {},
   "source": [
    "Exécute le contenu de la cellule, compte le nombre de phrases affichées par l'ordinateur.\n",
    "\n",
    "Ta prévision était-elle bonne? Pourquoi?"
   ]
  },
  {
   "cell_type": "markdown",
   "metadata": {},
   "source": [
    "` `"
   ]
  },
  {
   "cell_type": "markdown",
   "metadata": {},
   "source": [
    "**A toi de jouer** : Essaie de prévoir ce qui sera affiché lorsque la séquence d'instructions ci-dessous sera exécutée."
   ]
  },
  {
   "cell_type": "code",
   "execution_count": null,
   "metadata": {},
   "outputs": [],
   "source": [
    "for k in range(6):\n",
    "    print(\"Panier\")\n",
    "    print(\"Piano\")    "
   ]
  },
  {
   "cell_type": "markdown",
   "metadata": {},
   "source": [
    "Exécute la cellule ci-dessus et compte le nombre de lignes affichées. \n",
    "\n",
    "Cela était-il prévisible? Pourquoi?"
   ]
  },
  {
   "cell_type": "markdown",
   "metadata": {},
   "source": [
    " "
   ]
  },
  {
   "cell_type": "markdown",
   "metadata": {},
   "source": [
    "**Défi N°2 :** Complète le programme ci-dessous de manière à afficher les nombres de la table de trois :\n",
    "\n",
    "$0$,  $3$ ,  $6$,  $9$, etc... jusqu'à $3\\times 10 = 30$\n",
    "\n",
    "Les nombres pourront être affichés sur des lignes différentes."
   ]
  },
  {
   "cell_type": "code",
   "execution_count": null,
   "metadata": {},
   "outputs": [],
   "source": [
    "for k in range(...):\n",
    "    print(...)"
   ]
  },
  {
   "cell_type": "markdown",
   "metadata": {},
   "source": [
    "Essaie et valide ton programme. \n",
    "\n",
    "N'hésite pas à recommencer de manière à obtenir le bon résultat.\n",
    "\n",
    "Combien de termes sont-ils affichés par l'ordinateur?"
   ]
  },
  {
   "cell_type": "markdown",
   "metadata": {},
   "source": [
    "Le nombre de termes affichés par l'ordinateur est de _ _ _ ."
   ]
  },
  {
   "cell_type": "markdown",
   "metadata": {},
   "source": [
    "**Défi !** : écris une **boucle** `for` avec une variable appelée *j* qui varie de zéro à 7 et qui affiche :  \n",
    "j = 0  \n",
    "j = 1  \n",
    "j = 2  \n",
    "j = 3  \n",
    "j = 4  \n",
    "j = 5  \n",
    "j = 6  \n",
    "j = 7\n",
    "\n",
    "Ecris et valide ton programme dans la cellule ci-dessous."
   ]
  },
  {
   "cell_type": "code",
   "execution_count": null,
   "metadata": {},
   "outputs": [],
   "source": []
  },
  {
   "cell_type": "markdown",
   "metadata": {},
   "source": [
    "## Activité N°7 La \"grammaire\" du langage Python\n",
    "\n",
    "Lorsque l'on écrit un programme en Python, il importe de respecter les règles du langage tout comme, en français, on respecte les **règles de grammaire**. \n",
    "\n",
    "En français, tous les mots n'ont pas la même nature : on distingue par exemple les verbes, les noms communs, les adjectifs, etc...\n",
    "\n",
    "- Dans le langage Python, il existe des *variables* qui permettent à l'ordinateur de mémoriser des nombres, du texte, ou d'autres informations.\n",
    "\n",
    "> Par exemple, `x = 337` permet de stocker le nombre $337$ dans le conteneur nommé $x$.\n",
    "\n",
    "> De même `Texte = \"bonjour!\"` permet de stocker le mot *Bonjour!* dans le conteneur nommé $Texte$."
   ]
  },
  {
   "cell_type": "markdown",
   "metadata": {},
   "source": [
    "**Entraine-toi!** : complète les instructions ci-dessous pour afficher le texte contenu dans la variable appelée *total*"
   ]
  },
  {
   "cell_type": "code",
   "execution_count": null,
   "metadata": {},
   "outputs": [],
   "source": [
    "t1 = \"Toi\"\n",
    "t2 = \"Et\"\n",
    "t3 = \"Moi\"\n",
    "total = t1+t2+t3\n"
   ]
  },
  {
   "cell_type": "markdown",
   "metadata": {},
   "source": [
    "Explique ce que tu observes:"
   ]
  },
  {
   "cell_type": "markdown",
   "metadata": {},
   "source": [
    "  "
   ]
  },
  {
   "cell_type": "markdown",
   "metadata": {},
   "source": [
    "- En Python, il existe également des *instructions* qui expriment les actions que l'ordinateur doit faire,\n",
    "\n",
    "> Par exemple, l'instruction `print(Texte)` fait afficher le texte *Texte* à l'écran.\n",
    "\n",
    "> L'instruction `input(Question)` affiche la question *Question* à l'écran et récupère la réponse de l'utilisateur.\n",
    "\n",
    "> L'instruction `x = 4` indique à l'ordinateur de placer le nombre $4$ dans la *variable* `x`\n",
    "\n",
    "> L'instruction `a = b + c` indique à l'ordinateur de faire deux choses: d'abord il effectue l'**addition** de *a* et de *b*, ensuite il **place le résultat** de cette opération dans la variable `a`. \n",
    "\n",
    "Lis attentivement les instructions de la cellule ci-dessous.  \n",
    "Exécute le code Python puis essaie de comprendre comment l'ordinateur a fait pour afficher la phrase."
   ]
  },
  {
   "cell_type": "code",
   "execution_count": null,
   "metadata": {},
   "outputs": [],
   "source": [
    "jour  = \"Lundi\"\n",
    "mois  = \"Janvier\"\n",
    "annee = 2021\n",
    "print(\"Bonjour, nous sommes le \",jour,\" du mois de \", mois,\" de l'année \", annee,\".\")"
   ]
  },
  {
   "cell_type": "markdown",
   "metadata": {},
   "source": [
    "**Entraine-toi!** : complète les instructions ci-dessous pour afficher la **couleur choisie** et le **chiffre choisi** par l'utilisateur.\n",
    "\n",
    "Par exemple, si l'utilisateur tape au clavier la couleur *bleue* et le chiffre *cinq* alors l'ordinateur écrit:\n",
    "<pre><code> Tu as choisi la couleur bleue et le chiffre cinq.</code></pre>\n"
   ]
  },
  {
   "cell_type": "code",
   "execution_count": null,
   "metadata": {},
   "outputs": [],
   "source": [
    "coul = input(\"Ecris le nom d'une couleur : \")\n",
    "chiffre = input(\"Ecris un chiffre [entre zéro et neuf] : \")\n",
    "# à compléter\n",
    "    "
   ]
  },
  {
   "cell_type": "markdown",
   "metadata": {},
   "source": [
    "**Valide le bon fonctionnement** de ton programme en le testant.   \n",
    "Parviens-tu à faire afficher la même phrase que dans l'exemmple ? Explique pourquoi."
   ]
  },
  {
   "cell_type": "markdown",
   "metadata": {},
   "source": [
    "  "
   ]
  },
  {
   "cell_type": "markdown",
   "metadata": {},
   "source": [
    "- En Python, il existe également des mots déjà connus de l'ordinateur, appelés **mots réservés**.  \n",
    "Ces mots permettent à l'ordinateur de savoir s'il doit répéter des opérations par exemple, ou bien s'il doit envisager des cas pour savoir quoi faire.\n",
    "\n",
    "> Par exemple, les mots clés `for .. in` indiquent à l'ordinateur qu'il va devoir répéter une séquence d'instructions.\n",
    "\n",
    "Lorsque l'ordinateur **répète une séquence d'instructions** on dit qu'il effectue **une boucle**, à l'image d'un coureur qui tourne en rond autour d'un stade."
   ]
  },
  {
   "cell_type": "markdown",
   "metadata": {},
   "source": [
    "**Exemple :** on veut distribuer quinze cartes de manière équitable à trois joueurs.\n",
    "\n",
    "Chaque joueur pourrait-il avoir le même nombre de cartes ? Si oui, précise combien de carte aura chaque joueur.\n",
    "\n",
    "On souhaite distribuer les cartes successivement à chaque joueur, indique combien de \"tours\" devra faire celui qui distribue."
   ]
  },
  {
   "cell_type": "markdown",
   "metadata": {},
   "source": []
  },
  {
   "cell_type": "markdown",
   "metadata": {},
   "source": [
    "**Lis attentivement** les instructions ci-dessous puis essaie de deviner ce que l'ordinateur va faire."
   ]
  },
  {
   "cell_type": "code",
   "execution_count": null,
   "metadata": {},
   "outputs": [],
   "source": [
    "for i in range(5):\n",
    "    print(\"Distribue au joueur 1\")\n",
    "    print(\"Distribue au joueur 2\")\n",
    "    print(\"Distribue au joueur 3\")"
   ]
  },
  {
   "cell_type": "markdown",
   "metadata": {},
   "source": [
    "Exécute le contenu de la cellule ci-dessus et explique ce que tu observes.\n",
    "\n",
    "A quoi sert la variable appelée <code>i</code> ?"
   ]
  },
  {
   "cell_type": "markdown",
   "metadata": {},
   "source": [
    "  "
   ]
  },
  {
   "cell_type": "markdown",
   "metadata": {},
   "source": [
    "**Défi N°3**  Sur le même modèle, écris dans la cellule ci-dessous un programme qui distribue un paquet de trente-deux cartes, de manière équitable entre quatre joueurs.\n",
    "\n",
    "Attention: tu dois prendre garde à bien faire les **indentations** (touche tabulation)."
   ]
  },
  {
   "cell_type": "code",
   "execution_count": null,
   "metadata": {},
   "outputs": [],
   "source": [
    "# programme pour distribuer 32 cartes à 4 joueurs.\n"
   ]
  },
  {
   "cell_type": "markdown",
   "metadata": {},
   "source": [
    "**As-tu bien compris la grammaire du langage Python ?**\n",
    "\n",
    "Lis le programme ci-dessous. Essaie de repérer dans ce programme:\n",
    "\n",
    "- les mots réservés et les *boucles for*,\n",
    "- les variables,\n",
    "- les instructions.\n"
   ]
  },
  {
   "cell_type": "code",
   "execution_count": null,
   "metadata": {},
   "outputs": [],
   "source": [
    "nbCartes = 32\n",
    "for iTour in range(8):\n",
    "    for iJoueur in range(4):\n",
    "        nCarte = iTour*4 + iJoueur\n",
    "        print(\"Le joueur \", iJoueur,\" reçoit la carte \",nCarte)"
   ]
  },
  {
   "cell_type": "markdown",
   "metadata": {},
   "source": [
    "Complète le texte ci-dessous en précisant le nombre de boucles for, le nom des variables et le nombre d'instructions."
   ]
  },
  {
   "cell_type": "markdown",
   "metadata": {},
   "source": [
    "Le programme programme ci-dessous possède _ _ _ boucles for.\n",
    "\n",
    "Les variables de ce programme sont nommées: _ _ _, _ _ _, _ _ _ _ et  _ _ _ _.\n",
    "\n",
    "Le programme comporte _ _ _  instructions."
   ]
  },
  {
   "cell_type": "markdown",
   "metadata": {},
   "source": [
    "**Défi N°4** : \n",
    "\n",
    "\"Je parie que t'es pas cap de compter jusqu'à un million!\"\n",
    "\n",
    "Voici un défi que l'ordinateur est prêt à relever facilement!\n",
    "\n",
    "Ecris un programme qui:\n",
    "\n",
    "- affiche le texte \"Top départ!\"\n",
    "- effectue un boucle avec une variable nommée `compteur` qui prend un million de valeurs différentes,\n",
    "- qui **n'affiche pas** la valeur de la variable nommée `compteur`,\n",
    "- affiche \"J'ai compté jusqu'à un million!\"\n",
    "\n",
    "Attention: tu dois prendre garde à bien faire les **indentations** (touche tabulation)."
   ]
  },
  {
   "cell_type": "markdown",
   "metadata": {},
   "source": [
    "## Activité N°8 Faire dessiner l'ordinateur\n"
   ]
  },
  {
   "cell_type": "markdown",
   "metadata": {},
   "source": [
    "On peut augmenter le vocabulaire de l'ordinateur en utilisant des **modules complétementaires**.\n",
    "\n",
    "Un module est une sorte de *grimoire* qui contient des recettes permettant d'**enrichir le vocabulaire** de l'ordinateur.\n",
    "\n",
    "Une fois que l'on donne l'accès à un **module**, l'ordinateur apprend de **nouvelles instructions** et sera, par exemple, capable de dessiner des figures géométriques à l'écran.\n",
    "\n",
    "Pour permettre à l'ordinateur d'accéder au contenu d'un module, on utilise le **mot réservé** `import` suivi du nom du **module** auquel l'ordinateur doit accèder.\n",
    "\n",
    "Observe l'exemple ci-dessous."
   ]
  },
  {
   "cell_type": "code",
   "execution_count": 2,
   "metadata": {},
   "outputs": [],
   "source": [
    "import turtle # donne l'accès aux instructions définies dans le module 'turtle'"
   ]
  },
  {
   "cell_type": "markdown",
   "metadata": {},
   "source": [
    "Lorsque l'on fait suivre le mot `import` du nom d'un module, on permet à l'ordinateur d'utiliser l'ensemble des instructions qui ont été définies dans ce module.\n",
    "\n",
    "Dans notre cas, le module est nommé *turtle*.\n",
    "\n",
    "**A toi de jouer !**\n",
    "\n",
    "\"turtle\" est un mot anglais. Sais-tu ce qu'il signifie?"
   ]
  },
  {
   "cell_type": "markdown",
   "metadata": {},
   "source": [
    "Le mot turtle signifie : _ _ _."
   ]
  },
  {
   "cell_type": "markdown",
   "metadata": {},
   "source": [
    "**Valide la cellule** ci-dessous contenant l'instruction `import`."
   ]
  },
  {
   "cell_type": "code",
   "execution_count": 3,
   "metadata": {},
   "outputs": [],
   "source": [
    "import turtle # donne l'accès aux instructions définies dans le module 'turtle'"
   ]
  },
  {
   "cell_type": "markdown",
   "metadata": {},
   "source": [
    "A présent, l'ordinateur s'est enrichi d'une nouvelle fonctionalité : il sera capable de tracer des figures géométriques à l'image d'une tortue qui répond à des ordres simples:\n",
    "\n",
    "- avancer,\n",
    "- tourner à droite,\n",
    "- lever le crayon,\n",
    "- baisser le crayon, etc..."
   ]
  },
  {
   "cell_type": "markdown",
   "metadata": {},
   "source": [
    "**Etape 1 :** Faire apparaître la zone de dessin.\n",
    "\n",
    "La première chose à faire est de faire apparaître une fenêtre dans laquelle la tortue va pouvoir se déplacer et réaliser son dessin.\n",
    "\n",
    "C'est une sorte de feuille de papier sur laquelle la tortue nous allons lui faire réaliser des figures géométriques : carrés, rectangles, cercles, triangles, etc...\n",
    "\n",
    "Lorsque tu valideras le contenu de la cellule ci-dessous, une fenêtre blanche doit apparaître.\n",
    "\n",
    "**Important :** Il te faudra fermer cette fenêtre en cliquant sur la croix en haut à droite afin de pouvoir continuer."
   ]
  },
  {
   "cell_type": "code",
   "execution_count": 5,
   "metadata": {},
   "outputs": [],
   "source": [
    "# FAIRE APPARAITRE LA ZONE DE DESSIN\n",
    "turtle.TurtleScreen._RUNNING = True\n",
    "w = turtle.Screen()\n",
    "w.clear()\n",
    "w.visible = True\n",
    "w.exitonclick() # "
   ]
  },
  {
   "cell_type": "markdown",
   "metadata": {},
   "source": [
    "**A toi de jouer :** valide le contenu de la cellule précédente, observe bien puis ferme la fenêtre qui est apparue.\n",
    "\n",
    "As-tu vu une tortue sur la fenêtre? (N'hésite-pas à ré-exécuter la cellule pour observer à nouveau)."
   ]
  },
  {
   "cell_type": "markdown",
   "metadata": {},
   "source": [
    "Sur la fenêtre précédente, j'ai constaté qu'il _ _ _ _ _ _ _ _ _ ."
   ]
  },
  {
   "cell_type": "markdown",
   "metadata": {},
   "source": [
    "Il n'y avait pas de tortue sur la fenêtre précédente car nous n'avions pas demandé à l'ordinateur d'en créer.\n",
    "\n",
    "Pour créer une tortue, nous allons utiliser \"une recette\" du **module** *turtle* qui permet de crééer une tortue.\n",
    "\n",
    "La recette pour créeer une tortue s'appelle simplement `Turtle()`. Cette recette faisant partie du **module** *turtle*, il est nécessaire d'écrire  \n",
    "<pre>     `turtle.Turtle()`   </pre>\n",
    "pour permettre à l'ordinateur de créer un tortue.\n",
    "\n",
    "L'instruction `turtle.Turtle()` crée une tortue mais nous devons fournir à l'ordinateur un **conteneur**, c'est-à-dire une *variable* dans laquelle il va mémoriser ce nouvel objet.\n",
    "\n",
    "Libre à nous de chosir le nom de variable qui nous plait pour désigner \"notre nouveau compagnon\".  \n",
    "Par exemple, nous pouvons appeler la tortue `t1`.\n",
    "\n",
    "Dans ce cas, il suffira d'écrire l'instruction :\n",
    "<pre>     `t1 = turtle.Turtle()`   </pre>\n",
    "\n",
    "**A toi de jouer :**\n",
    "\n",
    "Exécute la cellule ci-dessous et essaie d'observer la tortue au centre de la fenêtre."
   ]
  },
  {
   "cell_type": "code",
   "execution_count": 11,
   "metadata": {},
   "outputs": [],
   "source": [
    "# FAIRE APPARAITRE LA ZONE DE DESSIN\n",
    "turtle.TurtleScreen._RUNNING = True\n",
    "w = turtle.Screen()\n",
    "w.clear()\n",
    "w.visible = True\n",
    "\n",
    "t1 = turtle.Turtle() # on crée un objet \"tortue\", baptisé 't1'\n",
    "\n",
    "w.exitonclick() # PERMET DE FERMER LA FENETRE"
   ]
  },
  {
   "cell_type": "markdown",
   "metadata": {},
   "source": [
    "Félicitations, tu viens de créer un **OJBET** qui est une tortue et qui est baptisé *t1* !\n",
    "\n",
    "A cet objet sont associées un grand nombre de \"recettes\", appelées **METHODES** qui permettent à cet objet d'intéragir avec son environnement. \n",
    "\n",
    "Nous allons voir par exemple que les **méthodes** de l'objet \"tortue\" lui permettent :\n",
    "\n",
    "- d'avancer, de reculer,\n",
    "- de tourner à droite,\n",
    "- de lever le crayon, de baisser le crayon, \n",
    "- de changer de couleur,\n",
    "- de changer sa vitesse de déplacement,\n",
    "- de modifier la taille de la tortue, etc..."
   ]
  },
  {
   "cell_type": "markdown",
   "metadata": {},
   "source": [
    "Ne trouves-tu pas que notre tortue est bien petite?\n",
    "\n",
    "Nous allons agrandir cette tortue et modifier sa couleur.\n",
    "\n",
    "Lis attentivement la cellule ci-dessous, exécute-la puis réponds aux questions qui suivent."
   ]
  },
  {
   "cell_type": "code",
   "execution_count": 12,
   "metadata": {},
   "outputs": [],
   "source": [
    "# FAIRE APPARAITRE LA ZONE DE DESSIN\n",
    "turtle.TurtleScreen._RUNNING = True\n",
    "w = turtle.Screen()\n",
    "w.clear()\n",
    "w.visible = True\n",
    "\n",
    "t1 = turtle.Turtle()   # on crée un objet \"tortue\", baptisé 't1'\n",
    "t1.color('blue');      # méthode N°1\n",
    "t1.shapesize(2, 3, 3); # méthode N°2\n",
    "\n",
    "w.exitonclick() # "
   ]
  },
  {
   "cell_type": "markdown",
   "metadata": {},
   "source": [
    "Comment s'appelle la **méthode** qui change la couleur de la tortue?\n",
    "\n",
    "Comment s'appelle la **méthode** qui change la taille de la tortue?"
   ]
  },
  {
   "cell_type": "markdown",
   "metadata": {},
   "source": [
    "  "
   ]
  },
  {
   "cell_type": "markdown",
   "metadata": {},
   "source": [
    "**En avant !** Nous allons faire déplacer la tortue.\n",
    "\n",
    "Pour cela, nous utilisons la **méthode** nommée `forward()`. C'est un mot anglais qui signifie : \"en avant \".\n",
    "\n",
    "Pour avancer la tortue 't1' de 50 pas en avant, il suffira donc d'écrire\n",
    "<pre>     `t1.forward(50)`   </pre>\n",
    "\n",
    "On dit que l'on **appelle la méthode** `forward()` de l'**objet** tortue 't1'.\n",
    "\n",
    "Le nombre 50 est le **paramètre** qui est transmis à cette méthode afin de préciser de combien de pas la tortue doit avancer.\n",
    "\n",
    "**A toi de jouer** : complète le programme ci-dessous en écrivant l'instruction permettant de faire avancer la tortue de 100 pas."
   ]
  },
  {
   "cell_type": "code",
   "execution_count": 6,
   "metadata": {},
   "outputs": [],
   "source": [
    "# FAIRE APPARAITRE LA ZONE DE DESSIN\n",
    "turtle.TurtleScreen._RUNNING = True\n",
    "w = turtle.Screen()\n",
    "w.clear()\n",
    "w.visible = True\n",
    "\n",
    "t1 = turtle.Turtle()   # on crée un objet \"tortue\", baptisé 't1'\n",
    "t1.color('blue');      # méthode N°1\n",
    "t1.shapesize(2, 3, 3); # méthode N°2\n",
    "# COMPLETE CI-DESSOUS avec l'instruction pour faire avancer la tortue de 100 pas\n",
    "t1.forward(100)\n",
    "\n",
    "w.exitonclick() # "
   ]
  },
  {
   "cell_type": "markdown",
   "metadata": {},
   "source": [
    "Exécute le programme, observe puis fermer la fenêtre.\n",
    "\n",
    "Bravo, tu viens de réaliser ton premier dessin à l'aide de la tortue en Python!"
   ]
  },
  {
   "cell_type": "markdown",
   "metadata": {},
   "source": [
    "## Activité N°9 On vire de bord !"
   ]
  },
  {
   "cell_type": "code",
   "execution_count": 4,
   "metadata": {},
   "outputs": [],
   "source": [
    "import turtle # donne l'accès aux instructions définies dans le module 'turtle'"
   ]
  },
  {
   "cell_type": "markdown",
   "metadata": {},
   "source": [
    "Nous avons vu comment faire avancer la tortue en ligne droite.\n",
    "\n",
    "A présent nous allons voir comment lui faire changer de direction.\n",
    "\n",
    "Pour permettre de mieux observer le déplacement de la tortue, nous allons lui demander de **ralentir** son déplacement.\n",
    "\n",
    "Cela se fait à l'aide de la **méthode** `speed()`. Par exemple, pour une tortue appelée 't1':\n",
    "\n",
    "- avec l'instruction `t1.speed(\"slow\")`    la tortue adopte une vitesse *lente*,\n",
    "- avec l'instruction `t1.speed(\"slowest\")` la tortue adopte une vitesse *très lente*,\n",
    "- avec l'instruction `t1.speed(\"fast\")`    la tortue adopte une vitesse *rapide*,\n",
    "- avec l'instruction `t1.speed(\"fastest\")` la tortue adopte une vitesse *très rapide*,"
   ]
  },
  {
   "cell_type": "markdown",
   "metadata": {},
   "source": [
    "**A toi de jouer :** Complète le programme ci-dessous en ajoutant l'instruction permettant de ralentir au maximum le déplacement de la tortue 't1'."
   ]
  },
  {
   "cell_type": "code",
   "execution_count": 15,
   "metadata": {},
   "outputs": [],
   "source": [
    "# FAIRE APPARAITRE LA ZONE DE DESSIN\n",
    "turtle.TurtleScreen._RUNNING = True\n",
    "w = turtle.Screen()\n",
    "w.clear()\n",
    "w.visible = True\n",
    "\n",
    "t1 = turtle.Turtle()   # on crée un objet \"tortue\", baptisé 't1'\n",
    "t1.color('blue');      # méthode N°1\n",
    "t1.shapesize(2, 3, 3); # méthode N°2\n",
    "\n",
    "# A COMPLETER\n",
    "t1.speed(\"slowest\")\n",
    "t1.forward(300) # la tortue avance de 300 pas\n",
    "t1.right(180)   # la tortue effectue un demi-tour\n",
    "\n",
    "w.exitonclick() # "
   ]
  },
  {
   "cell_type": "markdown",
   "metadata": {},
   "source": [
    "Exécute ce programme et observe.\n",
    "\n",
    "Quelle est l'instruction qui permet à la tortue 't1' de faire un demi-tour?"
   ]
  },
  {
   "cell_type": "markdown",
   "metadata": {},
   "source": [
    "L'instruction qui permet de faire un demi-tour à la tortue 't1' est : _ _ "
   ]
  },
  {
   "cell_type": "markdown",
   "metadata": {},
   "source": [
    "Modifie le programme précédent en changeant la **valeur du paramètre qui est transmis** à cette méthode:\n",
    "\n",
    "Au lieu d'une rotation de 180°, fais effectuer à la tortue une rotation de 90°.\n",
    "\n",
    "Ré-exécute le programme pour observer le changement."
   ]
  },
  {
   "cell_type": "markdown",
   "metadata": {},
   "source": [
    "**On change de sens !**\n",
    "\n",
    "Penses-tu que la tortue sait distinguer sa droite de sa gauche? \n",
    "\n",
    "Dans quel sens la tortue tourne-t-elle lorsqu'on effectue une rotation avec l'instruction `t1.right(90)`?"
   ]
  },
  {
   "cell_type": "markdown",
   "metadata": {},
   "source": [
    "Avec cette instruction, la tortue tourne vers la _ _ _ "
   ]
  },
  {
   "cell_type": "markdown",
   "metadata": {},
   "source": [
    "Dans le programme ci-dessous, remplace la méthode `right()` par la méthode `left()`.\n",
    "\n",
    "Exécute et observe."
   ]
  },
  {
   "cell_type": "code",
   "execution_count": 16,
   "metadata": {},
   "outputs": [],
   "source": [
    "# FAIRE APPARAITRE LA ZONE DE DESSIN\n",
    "turtle.TurtleScreen._RUNNING = True\n",
    "w = turtle.Screen()\n",
    "w.clear()\n",
    "w.visible = True\n",
    "\n",
    "t1 = turtle.Turtle()   # on crée un objet \"tortue\", baptisé 't1'\n",
    "t1.color('blue');      # méthode N°1\n",
    "t1.shapesize(2, 3, 3); # méthode N°2\n",
    "\n",
    "# \n",
    "t1.speed(\"slowest\")\n",
    "t1.forward(300) # la tortue avance de 300 pas\n",
    "t1.right(90)    # la tortue effectue un quart de tour \n",
    "\n",
    "w.exitonclick() # "
   ]
  },
  {
   "cell_type": "markdown",
   "metadata": {},
   "source": [
    "## Activité N°10 Une première figure géométrique : le carré.\n",
    "\n",
    "Tu as déjà entendu parler de losanges, triangles, rectangles, cercles, etc... \n",
    "\n",
    "Mais sais-tu vraiment ce qu'est un *carré*? Combien de côté possède cette figure géométrique?"
   ]
  },
  {
   "cell_type": "code",
   "execution_count": null,
   "metadata": {},
   "outputs": [],
   "source": [
    "  "
   ]
  },
  {
   "cell_type": "markdown",
   "metadata": {},
   "source": [
    "Que peux-tu dire des angles d'un carré?"
   ]
  },
  {
   "cell_type": "code",
   "execution_count": null,
   "metadata": {},
   "outputs": [],
   "source": [
    "  "
   ]
  },
  {
   "cell_type": "markdown",
   "metadata": {},
   "source": [
    "Aussi surprenant que cela puisse paraître, l'ordinateur **NE SAIT PAS** ce qu'est un carré!\n",
    "\n",
    "Mais pas de panique, nous allons lui expliquer comment faire pour tracer un carré.\n",
    "\n",
    "Voici une recette qu'on pourrait lui donner pour tracer un carré:\n",
    "\n",
    "- avancer de 100 pas,\n",
    "- tourner vers la droite de 90°,\n",
    "- avancer de 100 pas,\n",
    "- tourner vers la droite de 90°,\n",
    "- avancer de 100 pas,\n",
    "- tourner vers la droite de 90°,\n",
    "- avancer de 100 pas,\n",
    "- tourner vers la droite de 90°.\n"
   ]
  },
  {
   "cell_type": "markdown",
   "metadata": {},
   "source": [
    "**Enigme :** Dans la séquence d'instructions précédente, il y a une instruction qui semble inutile pour tracer le carré, laquelle? A quoi sert-elle malgré tout?"
   ]
  },
  {
   "cell_type": "markdown",
   "metadata": {},
   "source": [
    "Un telle recette est appelée un **algorithme**.\n",
    "\n",
    "L'algorithme précédent est écrit dans la langue française. L'ordinateur ne peut pas comprendre cet algorithme.\n",
    "\n",
    "C'est pourquoi nous devons le traduire dans le langage Python.\n",
    "\n",
    "**A toi de jouer :** en utilisant tes connaissances acquises dans les activités précédentes, complète le programme ci-dessous avec l'**algorithme** permettant de tracer le carré."
   ]
  },
  {
   "cell_type": "code",
   "execution_count": null,
   "metadata": {},
   "outputs": [],
   "source": [
    "# FAIRE APPARAITRE LA ZONE DE DESSIN\n",
    "turtle.TurtleScreen._RUNNING = True\n",
    "w = turtle.Screen()\n",
    "w.clear()\n",
    "w.visible = True\n",
    "\n",
    "t1 = turtle.Turtle()   # on crée un objet \"tortue\", baptisé 't1'\n",
    "t1.color('blue');      # méthode N°1\n",
    "t1.shapesize(2, 3, 3); # méthode N°2\n",
    "\n",
    "t1.speed(\"slowest\")\n",
    "# A COMPLETER POUR FAIRE TRACER LE CARRE\n",
    "\n",
    "w.exitonclick() # "
   ]
  },
  {
   "cell_type": "markdown",
   "metadata": {},
   "source": [
    "Exécute le programme et observe.\n",
    "\n",
    "As-tu réussi à faire tracer un carré?"
   ]
  },
  {
   "cell_type": "markdown",
   "metadata": {},
   "source": []
  },
  {
   "cell_type": "code",
   "execution_count": 10,
   "metadata": {},
   "outputs": [],
   "source": [
    "w = turtle.Screen()\n",
    "w.setup(1400, 700)\n",
    "w.title(\"Turtle Window\")\n",
    "w.clear()\n",
    "w.bgcolor(\"#ffffff\")\n",
    "w.visible = True\n",
    "t = turtle.Turtle()\n",
    "t.speed(\"slowest\")\n",
    "t.up()\n",
    "t.setpos(0,300)\n",
    "t.down()\n",
    "t.speed(\"slowest\"); #ralentir la tortue\n",
    "t.color('blue'); #choix un stylo bleu\n",
    "t.shapesize(1, 2, 2); #taille de tortue\n",
    "t.width(1);\n",
    "\n",
    "w.exitonclick()"
   ]
  },
  {
   "cell_type": "code",
   "execution_count": 5,
   "metadata": {},
   "outputs": [],
   "source": [
    "def koch1(a,n):\n",
    "    if n==0:\n",
    "        t1.forward(a)\n",
    "        koch2(a/3,n)\n",
    "        return\n",
    "    # partie complétée\n",
    "    koch2(a/3,n-1)\n",
    "    t.left(60)\n",
    "    koch2(a/3,n-1)\n",
    "    t.right(120)\n",
    "    koch2(a/3,n-1)\n",
    "    t.left(60)\n",
    "    koch2(a/3,n-1)\n"
   ]
  },
  {
   "cell_type": "code",
   "execution_count": 6,
   "metadata": {},
   "outputs": [],
   "source": [
    "def koch2(a,n):\n",
    "    if n==0:\n",
    "        t2.forward(a)\n",
    "        return\n",
    "    # partie complétée\n",
    "    koch1(a/3,n-1)\n",
    "    t.left(60)\n",
    "    koch1(a/3,n-1)\n",
    "    t.right(120)\n",
    "    koch1(a/3,n-1)\n",
    "    t.left(60)\n",
    "    koch1(a/3,n-1)"
   ]
  },
  {
   "cell_type": "code",
   "execution_count": 7,
   "metadata": {},
   "outputs": [],
   "source": [
    "def koch(a,n):\n",
    "    if n==0:\n",
    "        t.forward(a)\n",
    "        return\n",
    "    # partie complétée\n",
    "    koch(a/3,n-1)\n",
    "    t.left(60)\n",
    "    koch(a/3,n-1)\n",
    "    t.right(120)\n",
    "    koch(a/3,n-1)\n",
    "    t.left(60)\n",
    "    koch(a/3,n-1)\n"
   ]
  },
  {
   "cell_type": "code",
   "execution_count": 8,
   "metadata": {},
   "outputs": [
    {
     "ename": "NameError",
     "evalue": "name 't' is not defined",
     "output_type": "error",
     "traceback": [
      "\u001b[1;31m---------------------------------------------------------------------------\u001b[0m",
      "\u001b[1;31mNameError\u001b[0m                                 Traceback (most recent call last)",
      "\u001b[1;32m<ipython-input-8-56a1d103d154>\u001b[0m in \u001b[0;36m<module>\u001b[1;34m\u001b[0m\n\u001b[0;32m      9\u001b[0m \u001b[0mt2\u001b[0m \u001b[1;33m=\u001b[0m \u001b[0mturtle\u001b[0m\u001b[1;33m.\u001b[0m\u001b[0mTurtle\u001b[0m\u001b[1;33m(\u001b[0m\u001b[1;33m)\u001b[0m\u001b[1;33m\u001b[0m\u001b[1;33m\u001b[0m\u001b[0m\n\u001b[0;32m     10\u001b[0m \u001b[0mt2\u001b[0m\u001b[1;33m.\u001b[0m\u001b[0mfd\u001b[0m\u001b[1;33m(\u001b[0m\u001b[1;33m-\u001b[0m\u001b[1;36m20\u001b[0m\u001b[1;33m)\u001b[0m\u001b[1;33m\u001b[0m\u001b[1;33m\u001b[0m\u001b[0m\n\u001b[1;32m---> 11\u001b[1;33m \u001b[0mkoch1\u001b[0m\u001b[1;33m(\u001b[0m\u001b[1;36m100\u001b[0m\u001b[1;33m,\u001b[0m\u001b[1;36m5\u001b[0m\u001b[1;33m)\u001b[0m\u001b[1;33m\u001b[0m\u001b[1;33m\u001b[0m\u001b[0m\n\u001b[0m\u001b[0;32m     12\u001b[0m \u001b[1;33m\u001b[0m\u001b[0m\n\u001b[0;32m     13\u001b[0m \u001b[0mw\u001b[0m\u001b[1;33m.\u001b[0m\u001b[0mexitonclick\u001b[0m\u001b[1;33m(\u001b[0m\u001b[1;33m)\u001b[0m \u001b[1;31m#\u001b[0m\u001b[1;33m\u001b[0m\u001b[1;33m\u001b[0m\u001b[0m\n",
      "\u001b[1;32m<ipython-input-5-7cc9f9b370f1>\u001b[0m in \u001b[0;36mkoch1\u001b[1;34m(a, n)\u001b[0m\n\u001b[0;32m      5\u001b[0m         \u001b[1;32mreturn\u001b[0m\u001b[1;33m\u001b[0m\u001b[1;33m\u001b[0m\u001b[0m\n\u001b[0;32m      6\u001b[0m     \u001b[1;31m# partie complétée\u001b[0m\u001b[1;33m\u001b[0m\u001b[1;33m\u001b[0m\u001b[1;33m\u001b[0m\u001b[0m\n\u001b[1;32m----> 7\u001b[1;33m     \u001b[0mkoch2\u001b[0m\u001b[1;33m(\u001b[0m\u001b[0ma\u001b[0m\u001b[1;33m/\u001b[0m\u001b[1;36m3\u001b[0m\u001b[1;33m,\u001b[0m\u001b[0mn\u001b[0m\u001b[1;33m-\u001b[0m\u001b[1;36m1\u001b[0m\u001b[1;33m)\u001b[0m\u001b[1;33m\u001b[0m\u001b[1;33m\u001b[0m\u001b[0m\n\u001b[0m\u001b[0;32m      8\u001b[0m     \u001b[0mt\u001b[0m\u001b[1;33m.\u001b[0m\u001b[0mleft\u001b[0m\u001b[1;33m(\u001b[0m\u001b[1;36m60\u001b[0m\u001b[1;33m)\u001b[0m\u001b[1;33m\u001b[0m\u001b[1;33m\u001b[0m\u001b[0m\n\u001b[0;32m      9\u001b[0m     \u001b[0mkoch2\u001b[0m\u001b[1;33m(\u001b[0m\u001b[0ma\u001b[0m\u001b[1;33m/\u001b[0m\u001b[1;36m3\u001b[0m\u001b[1;33m,\u001b[0m\u001b[0mn\u001b[0m\u001b[1;33m-\u001b[0m\u001b[1;36m1\u001b[0m\u001b[1;33m)\u001b[0m\u001b[1;33m\u001b[0m\u001b[1;33m\u001b[0m\u001b[0m\n",
      "\u001b[1;32m<ipython-input-6-edef7999a75d>\u001b[0m in \u001b[0;36mkoch2\u001b[1;34m(a, n)\u001b[0m\n\u001b[0;32m      4\u001b[0m         \u001b[1;32mreturn\u001b[0m\u001b[1;33m\u001b[0m\u001b[1;33m\u001b[0m\u001b[0m\n\u001b[0;32m      5\u001b[0m     \u001b[1;31m# partie complétée\u001b[0m\u001b[1;33m\u001b[0m\u001b[1;33m\u001b[0m\u001b[1;33m\u001b[0m\u001b[0m\n\u001b[1;32m----> 6\u001b[1;33m     \u001b[0mkoch1\u001b[0m\u001b[1;33m(\u001b[0m\u001b[0ma\u001b[0m\u001b[1;33m/\u001b[0m\u001b[1;36m3\u001b[0m\u001b[1;33m,\u001b[0m\u001b[0mn\u001b[0m\u001b[1;33m-\u001b[0m\u001b[1;36m1\u001b[0m\u001b[1;33m)\u001b[0m\u001b[1;33m\u001b[0m\u001b[1;33m\u001b[0m\u001b[0m\n\u001b[0m\u001b[0;32m      7\u001b[0m     \u001b[0mt\u001b[0m\u001b[1;33m.\u001b[0m\u001b[0mleft\u001b[0m\u001b[1;33m(\u001b[0m\u001b[1;36m60\u001b[0m\u001b[1;33m)\u001b[0m\u001b[1;33m\u001b[0m\u001b[1;33m\u001b[0m\u001b[0m\n\u001b[0;32m      8\u001b[0m     \u001b[0mkoch1\u001b[0m\u001b[1;33m(\u001b[0m\u001b[0ma\u001b[0m\u001b[1;33m/\u001b[0m\u001b[1;36m3\u001b[0m\u001b[1;33m,\u001b[0m\u001b[0mn\u001b[0m\u001b[1;33m-\u001b[0m\u001b[1;36m1\u001b[0m\u001b[1;33m)\u001b[0m\u001b[1;33m\u001b[0m\u001b[1;33m\u001b[0m\u001b[0m\n",
      "\u001b[1;32m<ipython-input-5-7cc9f9b370f1>\u001b[0m in \u001b[0;36mkoch1\u001b[1;34m(a, n)\u001b[0m\n\u001b[0;32m      5\u001b[0m         \u001b[1;32mreturn\u001b[0m\u001b[1;33m\u001b[0m\u001b[1;33m\u001b[0m\u001b[0m\n\u001b[0;32m      6\u001b[0m     \u001b[1;31m# partie complétée\u001b[0m\u001b[1;33m\u001b[0m\u001b[1;33m\u001b[0m\u001b[1;33m\u001b[0m\u001b[0m\n\u001b[1;32m----> 7\u001b[1;33m     \u001b[0mkoch2\u001b[0m\u001b[1;33m(\u001b[0m\u001b[0ma\u001b[0m\u001b[1;33m/\u001b[0m\u001b[1;36m3\u001b[0m\u001b[1;33m,\u001b[0m\u001b[0mn\u001b[0m\u001b[1;33m-\u001b[0m\u001b[1;36m1\u001b[0m\u001b[1;33m)\u001b[0m\u001b[1;33m\u001b[0m\u001b[1;33m\u001b[0m\u001b[0m\n\u001b[0m\u001b[0;32m      8\u001b[0m     \u001b[0mt\u001b[0m\u001b[1;33m.\u001b[0m\u001b[0mleft\u001b[0m\u001b[1;33m(\u001b[0m\u001b[1;36m60\u001b[0m\u001b[1;33m)\u001b[0m\u001b[1;33m\u001b[0m\u001b[1;33m\u001b[0m\u001b[0m\n\u001b[0;32m      9\u001b[0m     \u001b[0mkoch2\u001b[0m\u001b[1;33m(\u001b[0m\u001b[0ma\u001b[0m\u001b[1;33m/\u001b[0m\u001b[1;36m3\u001b[0m\u001b[1;33m,\u001b[0m\u001b[0mn\u001b[0m\u001b[1;33m-\u001b[0m\u001b[1;36m1\u001b[0m\u001b[1;33m)\u001b[0m\u001b[1;33m\u001b[0m\u001b[1;33m\u001b[0m\u001b[0m\n",
      "\u001b[1;32m<ipython-input-6-edef7999a75d>\u001b[0m in \u001b[0;36mkoch2\u001b[1;34m(a, n)\u001b[0m\n\u001b[0;32m      4\u001b[0m         \u001b[1;32mreturn\u001b[0m\u001b[1;33m\u001b[0m\u001b[1;33m\u001b[0m\u001b[0m\n\u001b[0;32m      5\u001b[0m     \u001b[1;31m# partie complétée\u001b[0m\u001b[1;33m\u001b[0m\u001b[1;33m\u001b[0m\u001b[1;33m\u001b[0m\u001b[0m\n\u001b[1;32m----> 6\u001b[1;33m     \u001b[0mkoch1\u001b[0m\u001b[1;33m(\u001b[0m\u001b[0ma\u001b[0m\u001b[1;33m/\u001b[0m\u001b[1;36m3\u001b[0m\u001b[1;33m,\u001b[0m\u001b[0mn\u001b[0m\u001b[1;33m-\u001b[0m\u001b[1;36m1\u001b[0m\u001b[1;33m)\u001b[0m\u001b[1;33m\u001b[0m\u001b[1;33m\u001b[0m\u001b[0m\n\u001b[0m\u001b[0;32m      7\u001b[0m     \u001b[0mt\u001b[0m\u001b[1;33m.\u001b[0m\u001b[0mleft\u001b[0m\u001b[1;33m(\u001b[0m\u001b[1;36m60\u001b[0m\u001b[1;33m)\u001b[0m\u001b[1;33m\u001b[0m\u001b[1;33m\u001b[0m\u001b[0m\n\u001b[0;32m      8\u001b[0m     \u001b[0mkoch1\u001b[0m\u001b[1;33m(\u001b[0m\u001b[0ma\u001b[0m\u001b[1;33m/\u001b[0m\u001b[1;36m3\u001b[0m\u001b[1;33m,\u001b[0m\u001b[0mn\u001b[0m\u001b[1;33m-\u001b[0m\u001b[1;36m1\u001b[0m\u001b[1;33m)\u001b[0m\u001b[1;33m\u001b[0m\u001b[1;33m\u001b[0m\u001b[0m\n",
      "\u001b[1;32m<ipython-input-5-7cc9f9b370f1>\u001b[0m in \u001b[0;36mkoch1\u001b[1;34m(a, n)\u001b[0m\n\u001b[0;32m      6\u001b[0m     \u001b[1;31m# partie complétée\u001b[0m\u001b[1;33m\u001b[0m\u001b[1;33m\u001b[0m\u001b[1;33m\u001b[0m\u001b[0m\n\u001b[0;32m      7\u001b[0m     \u001b[0mkoch2\u001b[0m\u001b[1;33m(\u001b[0m\u001b[0ma\u001b[0m\u001b[1;33m/\u001b[0m\u001b[1;36m3\u001b[0m\u001b[1;33m,\u001b[0m\u001b[0mn\u001b[0m\u001b[1;33m-\u001b[0m\u001b[1;36m1\u001b[0m\u001b[1;33m)\u001b[0m\u001b[1;33m\u001b[0m\u001b[1;33m\u001b[0m\u001b[0m\n\u001b[1;32m----> 8\u001b[1;33m     \u001b[0mt\u001b[0m\u001b[1;33m.\u001b[0m\u001b[0mleft\u001b[0m\u001b[1;33m(\u001b[0m\u001b[1;36m60\u001b[0m\u001b[1;33m)\u001b[0m\u001b[1;33m\u001b[0m\u001b[1;33m\u001b[0m\u001b[0m\n\u001b[0m\u001b[0;32m      9\u001b[0m     \u001b[0mkoch2\u001b[0m\u001b[1;33m(\u001b[0m\u001b[0ma\u001b[0m\u001b[1;33m/\u001b[0m\u001b[1;36m3\u001b[0m\u001b[1;33m,\u001b[0m\u001b[0mn\u001b[0m\u001b[1;33m-\u001b[0m\u001b[1;36m1\u001b[0m\u001b[1;33m)\u001b[0m\u001b[1;33m\u001b[0m\u001b[1;33m\u001b[0m\u001b[0m\n\u001b[0;32m     10\u001b[0m     \u001b[0mt\u001b[0m\u001b[1;33m.\u001b[0m\u001b[0mright\u001b[0m\u001b[1;33m(\u001b[0m\u001b[1;36m120\u001b[0m\u001b[1;33m)\u001b[0m\u001b[1;33m\u001b[0m\u001b[1;33m\u001b[0m\u001b[0m\n",
      "\u001b[1;31mNameError\u001b[0m: name 't' is not defined"
     ]
    }
   ],
   "source": [
    "# FAIRE APPARAITRE LA ZONE DE DESSIN\n",
    "turtle.TurtleScreen._RUNNING = True\n",
    "w = turtle.Screen()\n",
    "w.clear()\n",
    "w.visible = True\n",
    "\n",
    "t1 = turtle.Turtle()\n",
    "t1.fd(50)\n",
    "t2 = turtle.Turtle()\n",
    "t2.fd(-20)\n",
    "koch1(100,5)\n",
    "\n",
    "w.exitonclick() # "
   ]
  },
  {
   "cell_type": "code",
   "execution_count": 61,
   "metadata": {},
   "outputs": [
    {
     "ename": "ModuleNotFoundError",
     "evalue": "No module named 'mobilechelonian'",
     "output_type": "error",
     "traceback": [
      "\u001b[1;31m---------------------------------------------------------------------------\u001b[0m",
      "\u001b[1;31mModuleNotFoundError\u001b[0m                       Traceback (most recent call last)",
      "\u001b[1;32m<ipython-input-61-4e3ba1e3922f>\u001b[0m in \u001b[0;36m<module>\u001b[1;34m\u001b[0m\n\u001b[1;32m----> 1\u001b[1;33m \u001b[1;32mfrom\u001b[0m \u001b[0mmobilechelonian\u001b[0m \u001b[1;32mimport\u001b[0m \u001b[0mTurtle\u001b[0m\u001b[1;33m\u001b[0m\u001b[1;33m\u001b[0m\u001b[0m\n\u001b[0m\u001b[0;32m      2\u001b[0m \u001b[0mt\u001b[0m \u001b[1;33m=\u001b[0m \u001b[0mTurtle\u001b[0m\u001b[1;33m(\u001b[0m\u001b[1;33m)\u001b[0m\u001b[1;33m\u001b[0m\u001b[1;33m\u001b[0m\u001b[0m\n\u001b[0;32m      3\u001b[0m \u001b[0mt\u001b[0m\u001b[1;33m.\u001b[0m\u001b[0mforward\u001b[0m\u001b[1;33m(\u001b[0m\u001b[1;36m100\u001b[0m\u001b[1;33m)\u001b[0m\u001b[1;33m\u001b[0m\u001b[1;33m\u001b[0m\u001b[0m\n",
      "\u001b[1;31mModuleNotFoundError\u001b[0m: No module named 'mobilechelonian'"
     ]
    }
   ],
   "source": []
  },
  {
   "cell_type": "code",
   "execution_count": null,
   "metadata": {},
   "outputs": [],
   "source": []
  }
 ],
 "metadata": {
  "kernelspec": {
   "display_name": "Python 3",
   "language": "python",
   "name": "python3"
  },
  "language_info": {
   "codemirror_mode": {
    "name": "ipython",
    "version": 3
   },
   "file_extension": ".py",
   "mimetype": "text/x-python",
   "name": "python",
   "nbconvert_exporter": "python",
   "pygments_lexer": "ipython3",
   "version": "3.7.6"
  }
 },
 "nbformat": 4,
 "nbformat_minor": 4
}
